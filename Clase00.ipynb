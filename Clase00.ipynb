{
  "nbformat": 4,
  "nbformat_minor": 0,
  "metadata": {
    "colab": {
      "provenance": [],
      "toc_visible": true,
      "authorship_tag": "ABX9TyMxbpNDYSpCX+hDxbrgKFND",
      "include_colab_link": true
    },
    "kernelspec": {
      "name": "python3",
      "display_name": "Python 3"
    },
    "language_info": {
      "name": "python"
    }
  },
  "cells": [
    {
      "cell_type": "markdown",
      "metadata": {
        "id": "view-in-github",
        "colab_type": "text"
      },
      "source": [
        "<a href=\"https://colab.research.google.com/github/Ritz38/IO-Grupo-1/blob/main/Clase00.ipynb\" target=\"_parent\"><img src=\"https://colab.research.google.com/assets/colab-badge.svg\" alt=\"Open In Colab\"/></a>"
      ]
    },
    {
      "cell_type": "markdown",
      "source": [
        "#Titulo kkkk"
      ],
      "metadata": {
        "id": "ShsIzGGJyP7b"
      }
    },
    {
      "cell_type": "markdown",
      "source": [
        "##Doble numeral para un subtitulo, numeral para titulo"
      ],
      "metadata": {
        "id": "IIF9kHJAyWED"
      }
    },
    {
      "cell_type": "code",
      "execution_count": 3,
      "metadata": {
        "colab": {
          "base_uri": "https://localhost:8080/"
        },
        "id": "laQbOfaeyBnB",
        "outputId": "67c5eb02-613f-496a-88b3-dcd6c2a19b0c"
      },
      "outputs": [
        {
          "output_type": "stream",
          "name": "stdout",
          "text": [
            "sisisiisisiisiisisiisisisi\n"
          ]
        }
      ],
      "source": [
        "print(\"sisisiisisiisiisisiisisisi\")\n"
      ]
    }
  ]
}